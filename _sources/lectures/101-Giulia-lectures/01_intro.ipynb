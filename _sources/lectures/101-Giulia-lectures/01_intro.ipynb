{
 "cells": [
  {
   "cell_type": "markdown",
   "id": "f66498aa-0b96-4bb2-9744-e9e1232dd21b",
   "metadata": {},
   "source": [
    "![](../img/330-banner.png)"
   ]
  },
  {
   "cell_type": "markdown",
   "id": "11e19500-5b1a-47d4-929f-a4e4db5fe3b6",
   "metadata": {},
   "source": [
    "# Lecture 1: Course Introduction \n",
    "\n",
    "UBC 2024-25"
   ]
  },
  {
   "cell_type": "markdown",
   "id": "f371b587-97b2-4fa1-8260-90458a91ee10",
   "metadata": {
    "slideshow": {
     "slide_type": "skip"
    }
   },
   "source": [
    "## Imports"
   ]
  },
  {
   "cell_type": "code",
   "execution_count": null,
   "id": "05be1ee9-5aa2-4b6c-9b20-ccb6d482a60a",
   "metadata": {
    "slideshow": {
     "slide_type": "skip"
    },
    "tags": []
   },
   "outputs": [],
   "source": [
    "import numpy as np\n",
    "import pandas as pd\n",
    "import matplotlib.pyplot as plt\n",
    "import os\n",
    "import sys\n",
    "sys.path.append(os.path.join(os.path.abspath(\"..\"), \"code\"))\n",
    "from IPython.display import HTML, display\n",
    "from sklearn.feature_extraction.text import CountVectorizer\n",
    "from sklearn.linear_model import LogisticRegression\n",
    "from sklearn.model_selection import train_test_split\n",
    "from sklearn.pipeline import make_pipeline\n",
    "\n",
    "plt.rcParams[\"font.size\"] = 16\n",
    "pd.set_option(\"display.max_colwidth\", 200)\n",
    "\n",
    "DATA_DIR = '../data/' "
   ]
  },
  {
   "cell_type": "markdown",
   "id": "21fab386-d11d-4f52-8316-0fe7498dec04",
   "metadata": {
    "slideshow": {
     "slide_type": "skip"
    }
   },
   "source": [
    "## Learning outcomes \n",
    "From this lecture, you will be able to \n",
    "\n",
    "- Explain the motivation behind study machine learning. \n",
    "- Briefly describe supervised learning.\n",
    "- Differentiate between traditional programming and machine learning.\n",
    "- Assess whether a given problem is suitable for a machine learning solution."
   ]
  },
  {
   "cell_type": "markdown",
   "id": "eff2184c-6a3e-45d6-9316-b9c4567052da",
   "metadata": {},
   "source": [
    "<br><br>"
   ]
  },
  {
   "cell_type": "markdown",
   "id": "6f9ca4dc-ab55-4b0f-b726-18ed20af547b",
   "metadata": {
    "slideshow": {
     "slide_type": "slide"
    }
   },
   "source": [
    "## Characters in this course? \n",
    "\n",
    "- CPSC 330 teaching team (instructors and the TAs)\n",
    "- Eva (a fictitious enthusiastic student)\n",
    "- And you all, of course 🙂! "
   ]
  },
  {
   "cell_type": "markdown",
   "id": "eb3c8da9-d09e-4830-8a3e-296067ec24c4",
   "metadata": {
    "slideshow": {
     "slide_type": "slide"
    },
    "tags": []
   },
   "source": [
    "### Meet Eva (a fictitious persona)!\n",
    "\n",
    "![](../img/eva-hi.png)\n",
    "\n",
    "Eva is among one of you. She has some experience in Python programming. She knows machine learning as a buzz word. During her recent internship, she has developed some interest and curiosity in the field. She wants to learn what is it and how to use it. She is a curious person and usually has a lot of questions!  "
   ]
  },
  {
   "cell_type": "markdown",
   "id": "e2188207-a544-4d29-acee-534686767b18",
   "metadata": {
    "slideshow": {
     "slide_type": "slide"
    }
   },
   "source": [
    "## Why machine learning (ML)? [[video](https://www.youtube.com/watch?v=-1hTcS5ZE4w&t=1s)]"
   ]
  },
  {
   "cell_type": "markdown",
   "id": "cbe5180a-05be-4f3a-af63-8b642c8655d2",
   "metadata": {},
   "source": [
    "```{seealso}\n",
    "Check out [the accompanying video](https://www.youtube.com/watch?v=-1hTcS5ZE4w&t=1s) on this material. \n",
    "```"
   ]
  },
  {
   "cell_type": "markdown",
   "id": "e3fd30e2-09cf-42a8-9fb9-c2162492ac10",
   "metadata": {
    "slideshow": {
     "slide_type": "slide"
    }
   },
   "source": [
    "### Prevalence of ML\n",
    "\n",
    "Let's look at some examples. \n",
    "\n",
    "<!-- <img src=\"img/ml-examples.png\" height=\"1000\" width=\"1000\">  -->\n",
    "![](../img/ml-examples.png)\n"
   ]
  },
  {
   "cell_type": "markdown",
   "id": "3173c908-063f-42d1-9d5b-b8276b95dff0",
   "metadata": {
    "slideshow": {
     "slide_type": "slide"
    }
   },
   "source": [
    "- Image sources \n",
    "    - [Voice assistants](https://geeksfl.com/blog/best-voice-assistant/)\n",
    "    - [Google News](https://news.google.com)    \n",
    "    - [Recommendation systems](https://en.wikipedia.org/wiki/Recommender_system)\n",
    "    - [Face Recognition source](https://startupleague.online/blog/3dss-tech-facial-recognition-technology/)\n",
    "    - [Auto-completion](https://9to5google.com/2020/08/10/android-11-autofill-keyboard/)\n",
    "    - [Stock market prediction](https://hbr.org/2019/12/what-machine-learning-will-mean-for-asset-managers)    \n",
    "    - [Character recognition](https://en.wikipedia.org/wiki/Handwriting_recognition)    \n",
    "    - [AlphaGo](https://deepmind.com/alphago-china)\n",
    "    - [Self-driving cars](https://mc.ai/artificial-intelligence-in-self-driving-cars%E2%80%8A-%E2%80%8Ahow-far-have-we-gotten/)\n",
    "    - [Drug discovery](https://www.nature.com/articles/d41586-018-05267-x)\n",
    "    - [Cancer detection](https://venturebeat.com/2018/10/12/google-ai-claims-99-accuracy-in-metastatic-breast-cancer-detection/)"
   ]
  },
  {
   "cell_type": "markdown",
   "id": "0dc9c455-d58e-4168-bd21-3f2f160050f2",
   "metadata": {
    "slideshow": {
     "slide_type": "slide"
    }
   },
   "source": [
    "### Saving time and scaling products \n",
    "\n",
    "- Imagine writing a program for spam identification, i.e., whether an email is spam or non-spam. \n",
    "- Traditional programming \n",
    "    - Come up with rules using human understanding of spam messages. \n",
    "    - Time consuming and hard to come up with robust set of rules. \n",
    "- Machine learning\n",
    "    - Collect large amount of data of spam and non-spam emails and let the machine learning algorithm figure out rules. \n",
    "- With machine learning, you're likely to \n",
    "    - Save time \n",
    "    - Customize and scale products "
   ]
  },
  {
   "cell_type": "markdown",
   "id": "d6785fa9-4817-44ff-adc1-c3b78b811a54",
   "metadata": {
    "slideshow": {
     "slide_type": "skip"
    }
   },
   "source": [
    "<br><br>"
   ]
  },
  {
   "cell_type": "markdown",
   "id": "c9c7aae1-e956-4616-86d9-d5acec66de50",
   "metadata": {
    "slideshow": {
     "slide_type": "slide"
    }
   },
   "source": [
    "## Supervised machine learning "
   ]
  },
  {
   "cell_type": "markdown",
   "id": "813b1ccb-5a6b-428a-9fc3-d237d7786f4c",
   "metadata": {
    "slideshow": {
     "slide_type": "slide"
    }
   },
   "source": [
    "### Types of machine learning\n",
    "\n",
    "Here are some typical learning problems. \n",
    "\n",
    "- **Supervised learning** ([Gmail spam filtering](https://support.google.com/a/answer/2368132?hl=en))\n",
    "    - Training a model from input data and its corresponding targets to predict targets for new examples.     \n",
    "- Unsupervised learning ([Google News](https://news.google.com/))\n",
    "    - Training a model to find patterns in a dataset, typically an unlabeled dataset.\n",
    "- Reinforcement learning ([AlphaGo](https://deepmind.com/research/case-studies/alphago-the-story-so-far))\n",
    "    - A family of algorithms for finding suitable actions to take in a given situation in order to maximize a reward. \n",
    "- Recommendation systems ([Amazon item recommendation system](https://www.cs.umd.edu/~samir/498/Amazon-Recommendations.pdf))\n",
    "    - Predict the \"rating\" or \"preference\" a user would give to an item.    "
   ]
  },
  {
   "cell_type": "markdown",
   "id": "325190f1-78b3-46d5-9c08-27f534424811",
   "metadata": {
    "slideshow": {
     "slide_type": "slide"
    }
   },
   "source": [
    "### What is supervised machine learning (ML)? \n",
    "\n",
    "- Training data comprises a set of observations ($X$) and their corresponding targets ($y$). \n",
    "- We wish to find a model function $f$ that relates $X$ to $y$.\n",
    "- We use the model function to predict targets of new examples. \n",
    "\n",
    "![](../img/sup-learning.png)\n",
    "<!-- <img src=\"../img/sup-learning.png\" height=\"600\" width=\"600\">  -->\n"
   ]
  },
  {
   "cell_type": "markdown",
   "id": "654ed546-6135-40b8-ac7a-fc8b16980281",
   "metadata": {
    "slideshow": {
     "slide_type": "slide"
    }
   },
   "source": [
    "### Example: Predict whether a message is spam or not "
   ]
  },
  {
   "cell_type": "markdown",
   "id": "b7329c29-118e-4fae-b670-69091120258a",
   "metadata": {},
   "source": [
    "#### Input features $X$ and target $y$"
   ]
  },
  {
   "cell_type": "markdown",
   "id": "9e13ac7b-ebcb-4d39-b869-7b8131f087fb",
   "metadata": {},
   "source": [
    "```{note}\n",
    "Do not worry about the code and syntax for now. \n",
    "```"
   ]
  },
  {
   "cell_type": "markdown",
   "id": "ba48d1a2-425a-409e-adf6-1bde99e2fe8d",
   "metadata": {
    "slideshow": {
     "slide_type": "-"
    }
   },
   "source": [
    "```{note}\n",
    "Download SMS Spam Collection Dataset from [here](https://www.kaggle.com/uciml/sms-spam-collection-dataset). \n",
    "```"
   ]
  },
  {
   "cell_type": "markdown",
   "id": "f8fa2de9-b37a-40f3-9189-b84f940903fd",
   "metadata": {
    "slideshow": {
     "slide_type": "slide"
    }
   },
   "source": [
    "#### Training a supervised machine learning model with $X$ and $y$"
   ]
  },
  {
   "cell_type": "code",
   "execution_count": null,
   "id": "f4511fed-6251-4301-9217-240723c2075e",
   "metadata": {
    "tags": [
     "hide-input"
    ]
   },
   "outputs": [],
   "source": [
    "sms_df = pd.read_csv(DATA_DIR + \"spam.csv\", encoding=\"latin-1\")\n",
    "sms_df = sms_df.drop(columns = [\"Unnamed: 2\", \"Unnamed: 3\", \"Unnamed: 4\"])\n",
    "sms_df = sms_df.rename(columns={\"v1\": \"target\", \"v2\": \"sms\"})\n",
    "train_df, test_df = train_test_split(sms_df, test_size=0.10, random_state=42)\n",
    "HTML(train_df.head().to_html(index=False))"
   ]
  },
  {
   "cell_type": "code",
   "execution_count": null,
   "id": "6f38510c-ad87-4d48-b267-cfe7bf44aa83",
   "metadata": {
    "slideshow": {
     "slide_type": "-"
    },
    "tags": []
   },
   "outputs": [],
   "source": [
    "X_train, y_train = train_df[\"sms\"], train_df[\"target\"]\n",
    "X_test, y_test = test_df[\"sms\"], test_df[\"target\"]\n",
    "clf = make_pipeline(CountVectorizer(max_features=5000), LogisticRegression(max_iter=5000))\n",
    "clf.fit(X_train, y_train);"
   ]
  },
  {
   "cell_type": "markdown",
   "id": "77f1152c-5952-47a6-b8dd-30ddb444ac9c",
   "metadata": {
    "slideshow": {
     "slide_type": "slide"
    }
   },
   "source": [
    "#### Predicting on unseen data using the trained model"
   ]
  },
  {
   "cell_type": "code",
   "execution_count": null,
   "id": "e20d2921-a8d0-4b63-8756-3bb5fb5c869a",
   "metadata": {
    "tags": []
   },
   "outputs": [],
   "source": [
    "pd.DataFrame(X_test[0:4])"
   ]
  },
  {
   "cell_type": "markdown",
   "id": "5d1e8469-e307-4136-a794-02b404de9756",
   "metadata": {},
   "source": [
    "```{note}\n",
    "Do not worry about the code and syntax for now. \n",
    "```"
   ]
  },
  {
   "cell_type": "code",
   "execution_count": null,
   "id": "ec41e07b-5c3b-4a44-ad64-519c9dc4bda7",
   "metadata": {
    "slideshow": {
     "slide_type": "slide"
    },
    "tags": []
   },
   "outputs": [],
   "source": [
    "pred_dict = {\n",
    "    \"sms\": X_test[0:4],\n",
    "    \"spam_predictions\": clf.predict(X_test[0:4]),\n",
    "}\n",
    "pred_df = pd.DataFrame(pred_dict)\n",
    "pred_df.style.set_properties(**{\"text-align\": \"left\"})"
   ]
  },
  {
   "cell_type": "markdown",
   "id": "7a097504-cfaa-4ad1-9911-78a93ab4b3ba",
   "metadata": {
    "slideshow": {
     "slide_type": "slide"
    }
   },
   "source": [
    "**We have accurately predicted labels for the unseen text messages above!**\n",
    "\n",
    "Question: how many examples do you think were needed to get this result? In other words, how many samples are in `train_df`?\n",
    "\n",
    "- (A) < 10 \n",
    "- (B) 10 - 100\n",
    "- (C) 100 - 1000\n",
    "- (D) 1000 - 10000 \n",
    "- (E) 10000 - 100000"
   ]
  },
  {
   "cell_type": "code",
   "execution_count": null,
   "id": "b5b9dddc-a4a5-4a6b-b563-cc347e2990b6",
   "metadata": {
    "tags": []
   },
   "outputs": [],
   "source": [
    "# Ready to find out?\n",
    "\n",
    "len(train_df)"
   ]
  },
  {
   "cell_type": "markdown",
   "id": "f732497a-8cf9-40fc-8ee5-7f991bac314c",
   "metadata": {},
   "source": [
    "<br><br>"
   ]
  },
  {
   "cell_type": "markdown",
   "id": "212f3d9a-87d1-482a-87de-ef52974ecbbf",
   "metadata": {
    "slideshow": {
     "slide_type": "slide"
    }
   },
   "source": [
    "### (Supervised) machine learning: popular definition \n",
    "<blockquote>\n",
    "A field of study that gives computers the ability to learn without being explicitly programmed. <br> -- Arthur Samuel (1959)\n",
    "</blockquote>\n",
    "\n",
    "ML is a different way to think about problem solving.\n",
    "\n",
    "![](../img/traditional-programming-vs-ML.png)\n",
    "<!-- <img src=\"img/traditional-programming-vs-ML.png\" height=\"700\" width=\"700\">  -->"
   ]
  },
  {
   "cell_type": "markdown",
   "id": "3ecf610e-1da9-4331-8884-7c7c0a70b85e",
   "metadata": {
    "slideshow": {
     "slide_type": "slide"
    }
   },
   "source": [
    "### Examples\n",
    "\n",
    "Let's look at some concrete examples of supervised machine learning. "
   ]
  },
  {
   "cell_type": "markdown",
   "id": "09ef1355-a85b-406a-9fcb-c730da77d28e",
   "metadata": {
    "slideshow": {
     "slide_type": "-"
    }
   },
   "source": [
    "```{note}\n",
    "Do not worry about the code at this point. Just focus on the input and output in each example.\n",
    "```"
   ]
  },
  {
   "cell_type": "markdown",
   "id": "9e6ba6a2-012a-445f-8787-abc1e9d7a800",
   "metadata": {
    "slideshow": {
     "slide_type": "slide"
    }
   },
   "source": [
    "#### Example 1: Predicting whether a patient has a liver disease or not"
   ]
  },
  {
   "cell_type": "markdown",
   "id": "928773b1-d9a0-4197-9933-6bc803e0a123",
   "metadata": {
    "slideshow": {
     "slide_type": "-"
    }
   },
   "source": [
    "##### Input data\n",
    "\n",
    "Suppose we are interested in predicting whether a patient has the disease or not. We are given some tabular data with inputs and outputs of liver patients, as shown below. The data contains a number of input features and a special column called \"Target\" which is the output we are interested in predicting. "
   ]
  },
  {
   "cell_type": "markdown",
   "id": "99bb7174-190b-4fbd-9f58-f66818a608ad",
   "metadata": {
    "slideshow": {
     "slide_type": "-"
    }
   },
   "source": [
    "```{note}\n",
    "Download the data from [here](https://www.kaggle.com/uciml/indian-liver-patient-records). \n",
    "```"
   ]
  },
  {
   "cell_type": "code",
   "execution_count": null,
   "id": "86996f4a-2365-40d7-b3d0-cb67f511ee31",
   "metadata": {
    "slideshow": {
     "slide_type": "slide"
    },
    "tags": [
     "hide-input"
    ]
   },
   "outputs": [],
   "source": [
    "df = pd.read_csv(DATA_DIR + \"indian_liver_patient.csv\")\n",
    "df = df.drop(columns = [\"Gender\"])\n",
    "df[\"Dataset\"] = df[\"Dataset\"].replace(1, \"Disease\")\n",
    "df[\"Dataset\"] = df[\"Dataset\"].replace(2, \"No Disease\")\n",
    "df.rename(columns={\"Dataset\": \"Target\"}, inplace=True)\n",
    "train_df, test_df = train_test_split(df, test_size=4, random_state=42)\n",
    "HTML(train_df.head().to_html(index=False))"
   ]
  },
  {
   "cell_type": "markdown",
   "id": "f4427867-3135-45ec-b850-526d3a502317",
   "metadata": {
    "slideshow": {
     "slide_type": "slide"
    }
   },
   "source": [
    "##### Building a supervise machine learning model\n",
    "\n",
    "Let's train a supervised machine learning model with the input and output above. "
   ]
  },
  {
   "cell_type": "markdown",
   "id": "527d8d33-9234-4f91-9c58-c4f0b7307b89",
   "metadata": {},
   "source": []
  },
  {
   "cell_type": "code",
   "execution_count": null,
   "id": "e82be94f-e169-41e7-93a4-124f692c82d3",
   "metadata": {
    "tags": []
   },
   "outputs": [],
   "source": [
    "from lightgbm.sklearn import LGBMClassifier\n",
    "\n",
    "X_train = train_df.drop(columns=[\"Target\"])\n",
    "y_train = train_df[\"Target\"]\n",
    "X_test = test_df.drop(columns=[\"Target\"])\n",
    "y_test = test_df[\"Target\"]\n",
    "model = LGBMClassifier(random_state=123, verbose=-1)\n",
    "model.fit(X_train, y_train)"
   ]
  },
  {
   "cell_type": "markdown",
   "id": "e68d5fa1-2c73-4a99-9fc4-51bec777bf2a",
   "metadata": {
    "slideshow": {
     "slide_type": "slide"
    }
   },
   "source": [
    "##### Model predictions on unseen data\n",
    "\n",
    "- Given features of new patients below we'll use this model to predict whether these patients have the liver disease or not. "
   ]
  },
  {
   "cell_type": "code",
   "execution_count": null,
   "id": "7b1496c4-4094-491a-8e0c-f76a8b4ce442",
   "metadata": {
    "tags": []
   },
   "outputs": [],
   "source": [
    "HTML(X_test.reset_index(drop=True).to_html(index=False))"
   ]
  },
  {
   "cell_type": "code",
   "execution_count": null,
   "id": "df5916f4-c4c1-4a9d-b3ab-db7ca5b01f56",
   "metadata": {
    "slideshow": {
     "slide_type": "slide"
    },
    "tags": []
   },
   "outputs": [],
   "source": [
    "pred_df = pd.DataFrame({\"Predicted_target\": model.predict(X_test).tolist()})\n",
    "\n",
    "df_concat = pd.concat([pred_df, X_test.reset_index(drop=True)], axis=1)\n",
    "HTML(df_concat.to_html(index=False))"
   ]
  },
  {
   "cell_type": "markdown",
   "id": "cc973f4b-00fa-4f35-a0c7-29d21cb97fed",
   "metadata": {},
   "source": [
    "<br><br>"
   ]
  },
  {
   "cell_type": "markdown",
   "id": "243bd5b3-2383-4426-a346-87dd5c61af42",
   "metadata": {
    "slideshow": {
     "slide_type": "slide"
    }
   },
   "source": [
    "#### Example 2: Predicting the label of a given image \n",
    "\n",
    "Suppose you want to predict the label of a given image using supervised machine learning. We are using a pre-trained model here to predict labels of new unseen images. "
   ]
  },
  {
   "cell_type": "markdown",
   "id": "7d436346-6f1e-4f03-bd83-79fc04928111",
   "metadata": {},
   "source": [
    "```{note}\n",
    "Assuming that you have successfully created cpsc330 `conda` environment on your computer, you'll have to install `torchvision` in cpsc330 `conda` environment to run the following code. If you are unable to install `torchvision` on your laptop, please don't worry,not crucial at this point. \n",
    "\n",
    "> conda activate cpsc330\n",
    "> conda install -c pytorch torchvision\n",
    "```"
   ]
  },
  {
   "cell_type": "code",
   "execution_count": null,
   "id": "61d0d419-54e3-4265-bcda-864dcb956bcb",
   "metadata": {
    "slideshow": {
     "slide_type": "slide"
    },
    "tags": []
   },
   "outputs": [],
   "source": [
    "import img_classify\n",
    "from PIL import Image\n",
    "import glob\n",
    "import matplotlib.pyplot as plt\n",
    "# Predict topn labels and their associated probabilities for unseen images\n",
    "images = glob.glob(DATA_DIR + \"test_images/*.*\")\n",
    "class_labels_file = DATA_DIR + 'imagenet_classes.txt'\n",
    "%matplotlib inline \n",
    "for img_path in images:\n",
    "    img = Image.open(img_path).convert('RGB')\n",
    "    img.load()\n",
    "    plt.imshow(img)\n",
    "    plt.show();    \n",
    "    df = img_classify.classify_image(img_path, class_labels_file)\n",
    "    print(df.to_string(index=False))\n",
    "    print(\"--------------------------------------------------------------\")"
   ]
  },
  {
   "cell_type": "markdown",
   "id": "0ef72ad4-d842-4cec-a2a9-fbf67fd0e8d5",
   "metadata": {},
   "source": [
    "<br><br>"
   ]
  },
  {
   "cell_type": "markdown",
   "id": "ecf75098-7c3e-45b9-8073-318baf500003",
   "metadata": {
    "slideshow": {
     "slide_type": "slide"
    }
   },
   "source": [
    "#### Example 3: Predicting sentiment expressed in a movie review\n",
    "\n",
    "Suppose you are interested in predicting whether a given movie review is positive or negative. You can do it using supervised machine learning. "
   ]
  },
  {
   "cell_type": "markdown",
   "id": "481fdad0-5006-4384-a0cb-0c5090b8133b",
   "metadata": {},
   "source": [
    "```{note}\n",
    "Download the data from [here](https://www.kaggle.com/utathya/imdb-review-dataset). \n",
    "\n",
    "Note: the textbook uses a very similar dataset for this example (https://www.kaggle.com/datasets/lakshmi25npathi/imdb-dataset-of-50k-movie-reviews), but be aware that the columns have different names.\n",
    "```"
   ]
  },
  {
   "cell_type": "code",
   "execution_count": null,
   "id": "d0f6b0b9-3f72-407b-ae59-f04cf2fdc1a6",
   "metadata": {
    "tags": []
   },
   "outputs": [],
   "source": [
    "imdb_df = pd.read_csv(\"../data/imdb_master.csv\", encoding=\"ISO-8859-1\")\n",
    "imdb_df = imdb_df[imdb_df[\"label\"].str.startswith((\"pos\", \"neg\"))]\n",
    "imdb_df.drop([\"Unnamed: 0\", \"type\", \"file\"], axis=1, inplace=True)\n",
    "imdb_df.rename(columns={\"label\": \"target\"}, inplace=True)\n",
    "train_df, test_df = train_test_split(imdb_df, test_size=0.10, random_state=123)\n",
    "HTML(train_df.head().to_html(index=False))"
   ]
  },
  {
   "cell_type": "code",
   "execution_count": null,
   "id": "fc98c6ce-0fa2-4645-94ae-5dd501a1d994",
   "metadata": {
    "slideshow": {
     "slide_type": "slide"
    },
    "tags": []
   },
   "outputs": [],
   "source": [
    "# Build an ML model\n",
    "X_train, y_train = train_df[\"review\"], train_df[\"target\"]\n",
    "X_test, y_test = test_df[\"review\"], test_df[\"target\"]\n",
    "\n",
    "clf = make_pipeline(CountVectorizer(max_features=5000), LogisticRegression(max_iter=5000))\n",
    "clf.fit(X_train, y_train);"
   ]
  },
  {
   "cell_type": "code",
   "execution_count": null,
   "id": "3f345969-880e-4453-a1bf-7ad78fe98755",
   "metadata": {
    "slideshow": {
     "slide_type": "slide"
    },
    "tags": []
   },
   "outputs": [],
   "source": [
    "# Predict on unseen data using the built model\n",
    "pred_dict = {\n",
    "    \"reviews\": X_test[0:4],\n",
    "    \"sentiment_predictions\": clf.predict(X_test[0:4]),\n",
    "}\n",
    "pred_df = pd.DataFrame(pred_dict)\n",
    "pred_df.style.set_properties(**{\"text-align\": \"left\"})"
   ]
  },
  {
   "cell_type": "markdown",
   "id": "10dad017-ca73-4833-a4cb-f3daea9ea909",
   "metadata": {},
   "source": [
    "<br><br>"
   ]
  },
  {
   "cell_type": "markdown",
   "id": "6c0991b3-c911-4fb7-96bd-5214a488beac",
   "metadata": {
    "slideshow": {
     "slide_type": "slide"
    }
   },
   "source": [
    "#### Example 4: Predicting housing prices\n",
    "\n",
    "Suppose we want to predict housing prices given a number of attributes associated with houses. "
   ]
  },
  {
   "cell_type": "markdown",
   "id": "54f23833-3765-425a-ae91-b2153bd6ff88",
   "metadata": {},
   "source": [
    "```{note}\n",
    "Download the data from [here](https://www.kaggle.com/harlfoxem/housesalesprediction). \n",
    "```"
   ]
  },
  {
   "cell_type": "code",
   "execution_count": null,
   "id": "6b42804c-09df-4905-bab9-0ed09090cc32",
   "metadata": {
    "slideshow": {
     "slide_type": "slide"
    },
    "tags": [
     "hide-input"
    ]
   },
   "outputs": [],
   "source": [
    "df = pd.read_csv( DATA_DIR + \"kc_house_data.csv\")\n",
    "df = df.drop(columns = [\"id\", \"date\"])\n",
    "df.rename(columns={\"price\": \"target\"}, inplace=True)\n",
    "train_df, test_df = train_test_split(df, test_size=0.2, random_state=4)\n",
    "HTML(train_df.head().to_html(index=False))"
   ]
  },
  {
   "cell_type": "code",
   "execution_count": null,
   "id": "3c7669ee-891e-40d3-9d47-7b4e9d9e25b4",
   "metadata": {
    "slideshow": {
     "slide_type": "slide"
    },
    "tags": []
   },
   "outputs": [],
   "source": [
    "# Build a regression model\n",
    "from lightgbm.sklearn import LGBMRegressor\n",
    "\n",
    "X_train, y_train = train_df.drop(columns= [\"target\"]), train_df[\"target\"]\n",
    "X_test, y_test = test_df.drop(columns= [\"target\"]), train_df[\"target\"]\n",
    "\n",
    "model = LGBMRegressor()\n",
    "#model = XGBRegressor()\n",
    "model.fit(X_train, y_train);"
   ]
  },
  {
   "cell_type": "code",
   "execution_count": null,
   "id": "86257c76-3e64-4f1d-858b-3f9023f01773",
   "metadata": {
    "slideshow": {
     "slide_type": "slide"
    },
    "tags": []
   },
   "outputs": [],
   "source": [
    "# Predict on unseen examples using the built model\n",
    "pred_df = pd.DataFrame(\n",
    "    # {\"Predicted target\": model.predict(X_test[0:4]).tolist(), \"Actual price\": y_test[0:4].tolist()}\n",
    "    {\"Predicted_target\": model.predict(X_test[0:4]).tolist()}\n",
    ")\n",
    "df_concat = pd.concat([pred_df, X_test[0:4].reset_index(drop=True)], axis=1)\n",
    "HTML(df_concat.to_html(index=False))"
   ]
  },
  {
   "cell_type": "markdown",
   "id": "c2105fe0-b32a-4c03-9eb4-e8f826cd2a55",
   "metadata": {},
   "source": [
    "To summarize, supervised machine learning can be used on a variety of problems and different kinds of data. "
   ]
  },
  {
   "cell_type": "markdown",
   "id": "a2c8abb4-ab28-497c-9eb3-e808519147ce",
   "metadata": {},
   "source": [
    "<br><br>"
   ]
  },
  {
   "cell_type": "markdown",
   "id": "e8ce1ea7-4ec6-4c25-ac5b-5f13ca1a3ef5",
   "metadata": {
    "slideshow": {
     "slide_type": "slide"
    }
   },
   "source": [
    "### 🤔 Eva's questions\n",
    "\n",
    "At this point, Eva is wondering about many questions. \n",
    "\n",
    "- How are we exactly \"learning\" whether a message is spam and ham? \n",
    "- What do you mean by \"learn without being explicitly programmed\"? The code has to be somewhere ... \n",
    "- Are we expected to get correct predictions for all possible messages? How does it predict the label for a message it has not seen before?  \n",
    "- What if the model mis-labels an unseen example? For instance, what if the model incorrectly predicts a non-spam as a spam? What would be the consequences? \n",
    "- How do we measure the success or failure of spam identification? \n",
    "- If you want to use this model in the wild, how do you know how reliable it is?  \n",
    "- Would it be useful to know how confident the model is about the predictions rather than just a yes or a no?\n",
    "\n",
    "It's great to think about these questions right now. But Eva has to be patient. By the end of this course you'll know answers to many of these questions!  \n",
    "\n",
    "![](../img/eva-qm.png)"
   ]
  },
  {
   "cell_type": "markdown",
   "id": "2ee4d99f-76dc-41c4-967d-32344bab1344",
   "metadata": {
    "slideshow": {
     "slide_type": "skip"
    }
   },
   "source": [
    "### Machine learning workflow \n",
    "\n",
    "Supervised machine learning is quite flexible; it can be used on a variety of problems and different kinds of data. Here is a typical workflow of a supervised machine learning systems.  \n",
    "\n",
    "![](../img/ml-workflow.png)\n",
    "\n",
    "<!-- <img src=\"img/ml-workflow.png\" height=\"800\" width=\"800\">  -->\n",
    "\n",
    "We will build machine learning pipelines in this course, focusing on some of the steps above. "
   ]
  },
  {
   "cell_type": "markdown",
   "id": "957ffd1f-f1d7-4258-9000-3439e0ccb20f",
   "metadata": {},
   "source": [
    "<br><br>"
   ]
  },
  {
   "cell_type": "markdown",
   "id": "a83eeacd-fb48-42df-8ef0-a8649a0fd191",
   "metadata": {
    "slideshow": {
     "slide_type": "slide"
    }
   },
   "source": [
    "### ❓❓ Questions for you\n",
    "\n",
    "iClicker cloud join link: https://join.iclicker.com/VYFJ"
   ]
  },
  {
   "cell_type": "markdown",
   "id": "12a34ca6-a0db-4c50-aa5d-c24580962970",
   "metadata": {},
   "source": [
    "### Select all of the following statements which are **True** (iClicker)\n",
    "\n",
    "- (A) Predicting spam is an example of machine learning. \n",
    "- (B) Predicting housing prices is not an example of machine learning. \n",
    "- (C) For problems such as spelling correction, translation, face recognition, spam identification, if you are a domain expert, it's usually faster and scalable to come up with a robust set of rules manually rather than building a machine learning model. \n",
    "- (D) If you are asked to write a program to find all prime numbers up to  a limit, it is better to implement one of the algorithms for doing so rather than using machine learning. \n",
    "- (E) Google News is likely be using machine learning to organize news. \n",
    "<br><br><br><br>"
   ]
  },
  {
   "cell_type": "markdown",
   "id": "1fde6f7e-9a85-4469-9a4d-9c1eb9b3f7a5",
   "metadata": {
    "slideshow": {
     "slide_type": "slide"
    }
   },
   "source": [
    "## Break (5 min)\n",
    "\n",
    "![](../img/eva-coffee.png)\n",
    "\n",
    "- We will try to take a 5-minute break half way through every class."
   ]
  },
  {
   "cell_type": "markdown",
   "id": "d5fc23dd-2ef8-4bf3-abc6-5de346f39123",
   "metadata": {},
   "source": [
    "<br><br>"
   ]
  },
  {
   "cell_type": "markdown",
   "id": "699cbdb1-fb00-4d8b-91fd-5a50ae0b7ecc",
   "metadata": {
    "slideshow": {
     "slide_type": "slide"
    }
   },
   "source": [
    "## About this course"
   ]
  },
  {
   "cell_type": "markdown",
   "id": "6d7a24b9-f89c-4aae-85c1-b171dc769113",
   "metadata": {
    "slideshow": {
     "slide_type": "slide"
    }
   },
   "source": [
    "### Course website "
   ]
  },
  {
   "cell_type": "markdown",
   "id": "8920f2c1-eaeb-41f3-a1ad-6d35a0a68234",
   "metadata": {
    "slideshow": {
     "slide_type": "-"
    }
   },
   "source": [
    "[https://github.com/UBC-CS/cpsc330-2024W1](https://github.com/UBC-CS/cpsc330-2024W1) is the most important link. Please read everything on there!\n"
   ]
  },
  {
   "cell_type": "markdown",
   "id": "f0d2a45f-22a0-4534-af94-826a57261447",
   "metadata": {
    "slideshow": {
     "slide_type": "slide"
    }
   },
   "source": [
    "### CPSC 330 vs. 340\n",
    "\n",
    "Read [https://github.com/UBC-CS/cpsc330-2024W1/blob/main/docs/330_vs_340.md](https://github.com/UBC-CS/cpsc330-2024W1/blob/main/docs/330_vs_340.md)\n",
    "which explains the difference between the two courses.  \n",
    "\n",
    "**TLDR:**\n",
    "\n",
    "- 340: how do ML models work?\n",
    "- 330: how do I use ML models?\n",
    "- CPSC 340 has many prerequisites. \n",
    "- CPSC 340 goes deeper but has a more narrow scope.\n",
    "- I think CPSC 330 will be more useful if you just plan to apply basic ML."
   ]
  },
  {
   "cell_type": "markdown",
   "id": "ef798155-3196-4968-be85-8274920c3264",
   "metadata": {
    "slideshow": {
     "slide_type": "slide"
    }
   },
   "source": [
    "### Registration, waitlist and prerequisites"
   ]
  },
  {
   "cell_type": "markdown",
   "id": "a71ab02a-fe10-4736-933f-95af9ad33a02",
   "metadata": {},
   "source": [
    "Please go through [the syllabus](https://github.com/UBC-CS/cpsc330-2024W1/blob/main/syllabus.md) carefully before contacting me about these issues. Even then, I am very unlikely to be able to help with registration, waitlist or prerequisite issues."
   ]
  },
  {
   "cell_type": "markdown",
   "id": "ec9caf05-2c8a-481d-94e9-f7441eab9354",
   "metadata": {
    "slideshow": {
     "slide_type": "slide"
    }
   },
   "source": [
    "### Course format\n",
    "\n",
    "- Lectures are T/Th at 3:30pm.\n",
    "- Often, there will be videos to watch before or during the lecture time. (Check the main course page to see if you are expected to watch videos before the class.)\n",
    "- Weekly tutorials will be **office hour format** run by the TAs and are **completely optional**.\n",
    "- We'll have two midterms and one final ([dates](https://github.com/UBC-CS/cpsc330-2024W1/blob/main/syllabus.md))."
   ]
  },
  {
   "cell_type": "markdown",
   "id": "2ff73fe2-a0e6-4c93-93bb-443085767703",
   "metadata": {
    "slideshow": {
     "slide_type": "slide"
    }
   },
   "source": [
    "### Communications\n",
    "\n",
    "- Our main forum for getting help will be Piazza --> access through Canvas.\n",
    "- Other forms of communications (Canvas, email...) will likely go unresponded. \n",
    "- Let's all take 2 minutes to register (through the link or through the tab on Canvas)\n",
    "- You must have a @ubc.ca email associated with your account. Unrecognizable accounts (other emails) will be dropped without warning."
   ]
  },
  {
   "cell_type": "markdown",
   "id": "6ebc07c2-ec4e-41e2-a4a7-f8f31439f2f4",
   "metadata": {
    "slideshow": {
     "slide_type": "slide"
    }
   },
   "source": [
    "### Grades\n",
    "\n",
    "- The grading breakdown is [here](https://piazza.com/class/m01ukubppof625). This page also explains the policy on challenging grades and **late tokens**.\n",
    "- You have one week to raise a concern from the time that your grades were posted, by contacting the course coordinator. "
   ]
  },
  {
   "cell_type": "markdown",
   "id": "e89c478c-3b21-4ca4-b663-ed3beeee0ef2",
   "metadata": {
    "slideshow": {
     "slide_type": "slide"
    }
   },
   "source": [
    "### First deliverables\n",
    "\n",
    "- First homework assignment is due **this coming Tuesday**, September 10th, at 11:59pm. The assignment is available on GitHub.\n",
    "- You must do the first homework assignment on your own.\n",
    "- The [Syllabus quiz](https://us.prairielearn.com/pl/course_instance/163899/assessment/2451488) is available on PrairieLearn and is due by Sept 19th, 11:59 pm. "
   ]
  },
  {
   "cell_type": "markdown",
   "id": "53663f9c-6a8a-4fcf-847c-d04daf6221e8",
   "metadata": {},
   "source": [
    "Please read [this entire document about asking for help](https://github.com/UBC-CS/cpsc330-2024W1/blob/main/docs/asking_for_help.md).\n",
    "**TLDR:** Be nice."
   ]
  },
  {
   "cell_type": "markdown",
   "id": "89627a21-c3bf-4800-a187-f05a7f66a88f",
   "metadata": {
    "slideshow": {
     "slide_type": "slide"
    }
   },
   "source": [
    "### Lecture and homework format: Jupyter notebooks\n",
    "\n",
    "- This document is a [Jupyter notebook](https://jupyter.org/), with file extension `.ipynb`.\n",
    "- Confusingly, \"Jupyter notebook\" is also the original application that opens `.ipynb` files - but has since been replaced by **Jupyter lab**.\n",
    "  - Some things might not work with the Jupyter notebook application.\n",
    "  - The course setup/install instructions include Jupyter lab.\n",
    "- Jupyter notebooks contain a mix of code, code output, markdown-formatted text (including LaTeX equations), and more.\n",
    "  - When you open a Jupyter notebook in one of these apps, the document is \"live\", meaning you can run the code.\n",
    "  - For example:"
   ]
  },
  {
   "cell_type": "code",
   "execution_count": null,
   "id": "53c95c92-2daf-48ec-9ec9-5050e6468758",
   "metadata": {},
   "outputs": [],
   "source": [
    "1+1"
   ]
  },
  {
   "cell_type": "code",
   "execution_count": null,
   "id": "bf89e267-5606-4e8b-ae6c-208fc10f0fd4",
   "metadata": {},
   "outputs": [],
   "source": [
    "x = [1,2,3]\n",
    "x[0] = 9999\n",
    "x"
   ]
  },
  {
   "cell_type": "markdown",
   "id": "62652a8c-ccdc-4ae1-a54f-faab6d5a1bdd",
   "metadata": {},
   "source": [
    "- By default, Jupyter prints out the result of the last line of code, so you don't need as many `print` statements.\n",
    "- In addition to the \"live\" notebooks, Jupyter notebooks can be statically rendered in the web browser, e.g. [this](https://github.com/UBC-CS/cpsc330/blob/master/lectures/01_intro.ipynb).\n",
    "  - This can be convenient for quick read-only access, without needing to launch the Jupyter notebook/lab application.\n",
    "  - But you need to launch the app properly to interact with the notebooks.\n",
    "\n"
   ]
  },
  {
   "cell_type": "markdown",
   "id": "57e4962c-64a9-44b8-af2b-f643b3995927",
   "metadata": {
    "slideshow": {
     "slide_type": "slide"
    }
   },
   "source": [
    "### Lecture style\n",
    "\n",
    "- Lots of code snippets in Jupyter.\n",
    "- There will be some [YouTube videos](https://www.youtube.com/channel/UC40oUwJPrUmhsYdURk8OjqA) to watch before or during the lecture. \n",
    "- We will also try to work on some questions and exercises together during the class. \n",
    "- All materials will be posted on the course website. Lecture notes will be posted right before each class.\n",
    "- Lectures from the previous semester are available on previous course repositories (change 2024W1 with 2022W2, for example). \n",
    "- I cannot promise anything will stay the same from last year to this year, so watch out for differences."
   ]
  },
  {
   "cell_type": "markdown",
   "id": "5bc7bd88-8d76-4885-98af-0a0e59ee94f3",
   "metadata": {},
   "source": [
    "<br><br>"
   ]
  },
  {
   "cell_type": "markdown",
   "id": "45356477-78c3-4957-a3c4-132aa72faf77",
   "metadata": {
    "slideshow": {
     "slide_type": "slide"
    }
   },
   "source": [
    "## Setting up your computer for the course "
   ]
  },
  {
   "cell_type": "markdown",
   "id": "f9fab68a-727b-4451-9b79-9f8c3c0094f7",
   "metadata": {},
   "source": [
    "### Recommended browser\n",
    "\n",
    "- I'll test the course notebooks and exams, which we'll be doing via [Canvas](https://canvas.ubc.ca/courses/106375), on the following two browsers: Chrome and Firefox. So I recommend that you use one of these browsers for the course.\n",
    "\n",
    "- You can install Chrome [here](https://www.google.com/chrome/). \n",
    "- You can install Firefox [here](https://www.mozilla.org/en-US/firefox/new/). "
   ]
  },
  {
   "cell_type": "markdown",
   "id": "d9049b96-0baf-4eff-bd97-37784389f55c",
   "metadata": {
    "slideshow": {
     "slide_type": "slide"
    }
   },
   "source": [
    "### Python requirements/resources\n",
    "\n",
    "We will primarily use Python in this course.\n",
    "\n",
    "Here is the basic Python knowledge you'll need for the course: \n",
    "\n",
    "- Basic Python programming\n",
    "- Numpy\n",
    "- Pandas\n",
    "- Basic matplotlib\n",
    "- Sparse matrices\n",
    "\n",
    "Some of you will already know Python, others won't. Homework 1 is all about Python.\n"
   ]
  },
  {
   "cell_type": "markdown",
   "id": "8f4b7578-8428-4500-b281-57dbc93543a1",
   "metadata": {
    "slideshow": {
     "slide_type": "-"
    }
   },
   "source": [
    "We do not have time to teach all the Python we need \n",
    "but you can find some useful Python resources [here](https://github.com/UBC-CS/cpsc330-2024W1/blob/main/docs/python_notes.ipynb).  \n"
   ]
  },
  {
   "cell_type": "markdown",
   "id": "22c4c37e-ba1d-4174-ba93-80b91ad09154",
   "metadata": {
    "slideshow": {
     "slide_type": "slide"
    }
   },
   "source": [
    "### Activity\n",
    "\n",
    "In this course, we will primarily be using Python, git, GitHub, Canvas, Gradescope, and Piazza. Let's set up your computers for the course. \n",
    "\n",
    "- Follow the setup instructions [here](https://github.com/UBC-CS/cpsc330-2024W1/blob/main/docs/setup.md) to create a course conda environment on your computer. "
   ]
  },
  {
   "cell_type": "markdown",
   "id": "fcd8315a-63a2-48ef-bd9d-d35f51a17086",
   "metadata": {
    "slideshow": {
     "slide_type": "slide"
    }
   },
   "source": [
    "### Checklist for you before next class \n",
    "\n",
    "- [ ] Are you able to access course [Canvas](https://canvas.ubc.ca/courses/149122) shell? \n",
    "- [ ] Are you able to access [Gradescope](https://www.gradescope.ca/courses/18608)? (If not, refer to the [Gradescope Student Guide](https://lthub.ubc.ca/guides/gradescope-student-guide/).)\n",
    "- [ ] Are you able to access course Piazza (through Canvas)?\n",
    "- [ ] Did you follow the setup instructions [here](https://github.com/UBC-CS/cpsc330-2024W1/blob/main/docs/setup.md) to create a course conda environment on your computer? \n",
    "- [ ] Did you complete the [Syllabus quiz on PrairieLearn](https://us.prairielearn.com/pl/course_instance/163899/assessment/2451488)? (Due date: Thursday, Sep 19th at 11:59pm)\n",
    "- [ ] Are you done with homework 1? (Due: Tuesday, Sep 10th at 11:59pm)"
   ]
  },
  {
   "cell_type": "markdown",
   "id": "5626bd29-051a-47cd-aa5e-c6e1ac533ba4",
   "metadata": {},
   "source": [
    "<br><br>"
   ]
  },
  {
   "cell_type": "code",
   "execution_count": null,
   "id": "ebc43052-16c0-4bed-b54f-b08aedcb3687",
   "metadata": {},
   "outputs": [],
   "source": []
  },
  {
   "cell_type": "markdown",
   "id": "a6271913-db05-4bc5-ae70-6af1bb628133",
   "metadata": {},
   "source": [
    "## Summary\n",
    "\n",
    "- Machine learning is increasingly being applied across various fields.\n",
    "- In supervised learning, we are given a set of observations ($X$) and their corresponding targets ($y$) and we wish to find a model function $f$ that relates $X$ to $y$.\n",
    "- Machine learning is a different paradigm for problem solving. Very often it reduces the time you spend programming and helps customizing and scaling your products.\n",
    "- Before applying machine learning to a problem, it's always advisable to assess whether a given problem is suitable for a machine learning solution or not."
   ]
  },
  {
   "cell_type": "markdown",
   "id": "9a5db5d1-c432-41f4-a96c-7b64433591ff",
   "metadata": {},
   "source": [
    "![](../img/eva-seeyou.png)"
   ]
  }
 ],
 "metadata": {
  "celltoolbar": "Slideshow",
  "kernelspec": {
   "display_name": "Python [conda env:cpsc330-24]",
   "language": "python",
   "name": "conda-env-cpsc330-24-py"
  },
  "language_info": {
   "codemirror_mode": {
    "name": "ipython",
    "version": 3
   },
   "file_extension": ".py",
   "mimetype": "text/x-python",
   "name": "python",
   "nbconvert_exporter": "python",
   "pygments_lexer": "ipython3",
   "version": "3.12.0"
  }
 },
 "nbformat": 4,
 "nbformat_minor": 5
}
